{
 "cells": [
  {
   "cell_type": "code",
   "execution_count": 2,
   "id": "a2997a1b",
   "metadata": {},
   "outputs": [
    {
     "name": "stdout",
     "output_type": "stream",
     "text": [
      "Requirement already satisfied: scikit-learn in ./.venv/lib/python3.12/site-packages (1.7.2)\n",
      "Requirement already satisfied: numpy>=1.22.0 in ./.venv/lib/python3.12/site-packages (from scikit-learn) (2.3.3)\n",
      "Requirement already satisfied: scipy>=1.8.0 in ./.venv/lib/python3.12/site-packages (from scikit-learn) (1.16.2)\n",
      "Requirement already satisfied: joblib>=1.2.0 in ./.venv/lib/python3.12/site-packages (from scikit-learn) (1.5.2)\n",
      "Requirement already satisfied: threadpoolctl>=3.1.0 in ./.venv/lib/python3.12/site-packages (from scikit-learn) (3.6.0)\n",
      "Requirement already satisfied: pandas in ./.venv/lib/python3.12/site-packages (2.3.2)\n",
      "Requirement already satisfied: numpy>=1.26.0 in ./.venv/lib/python3.12/site-packages (from pandas) (2.3.3)\n",
      "Requirement already satisfied: python-dateutil>=2.8.2 in ./.venv/lib/python3.12/site-packages (from pandas) (2.9.0.post0)\n",
      "Requirement already satisfied: pytz>=2020.1 in ./.venv/lib/python3.12/site-packages (from pandas) (2025.2)\n",
      "Requirement already satisfied: tzdata>=2022.7 in ./.venv/lib/python3.12/site-packages (from pandas) (2025.2)\n",
      "Requirement already satisfied: six>=1.5 in ./.venv/lib/python3.12/site-packages (from python-dateutil>=2.8.2->pandas) (1.17.0)\n"
     ]
    }
   ],
   "source": [
    "!pip install scikit-learn\n",
    "!pip install pandas\n"
   ]
  },
  {
   "cell_type": "code",
   "execution_count": null,
   "id": "d27bf589",
   "metadata": {},
   "outputs": [
    {
     "name": "stdout",
     "output_type": "stream",
     "text": [
      "  fire  year  temp  humidity  rainfall  drought_code  buildup_index  day  \\\n",
      "0   no  2015    28        59       0.0          8.06           3.47    1   \n",
      "1   no  2010    30        61       1.3          8.17           4.03    2   \n",
      "2   no  2009    26        83      13.1          8.08           3.59    3   \n",
      "3   no  2017    25        87       2.5          7.18           2.42    4   \n",
      "4   no  2014    28        77       0.0         14.98           4.63    5   \n",
      "\n",
      "   month  wind_speed  \n",
      "0      6          19  \n",
      "1      6          13  \n",
      "2      6          22  \n",
      "3      6          15  \n",
      "4      6          18  \n",
      "  fire  year  temp  humidity  rainfall  drought_code  buildup_index  day  \\\n",
      "0   no  2015    33        68       4.5          9.12           5.09   19   \n",
      "1  yes  2009    28        56       0.0         38.17          21.21   12   \n",
      "2   no  2017    30        64       0.6         15.38           6.24   24   \n",
      "3   no  2007    23        74       8.3          7.36           2.27   14   \n",
      "4   no  2017    31        72       0.3         30.47           5.63    7   \n",
      "\n",
      "   month  wind_speed  \n",
      "0      6          16  \n",
      "1      6          18  \n",
      "2      9          19  \n",
      "3      9          28  \n",
      "4      9          17  \n"
     ]
    },
    {
     "data": {
      "text/plain": [
       "['year',\n",
       " 'temp',\n",
       " 'humidity',\n",
       " 'rainfall',\n",
       " 'drought_code',\n",
       " 'buildup_index',\n",
       " 'day',\n",
       " 'month',\n",
       " 'wind_speed']"
      ]
     },
     "execution_count": 1,
     "metadata": {},
     "output_type": "execute_result"
    }
   ],
   "source": [
    "\n",
    "from sklearn.preprocessing import LabelEncoder\n",
    "import pandas as pd #import pandas library for reading CSV\n",
    "\n",
    "# Load dataset\n",
    "training_data = pd.read_csv('./Datasets/wildfires_training.csv')\n",
    "test_data = pd.read_csv('./Datasets/wildfires_test.csv')\n",
    "# Check to see if csv is loaded correctly\n",
    "print(training_data.head())\n",
    "print(test_data.head()) \n",
    "\n",
    "# Check to make sure test and training data have the same feature set.\n",
    "training_first_row = training_data.iloc[0]  # Get the first row of the training dataset\n",
    "test_first_row = test_data.iloc[0]          # Get the first row of the test dataset\n",
    "\n",
    "# Assert that both training and test data set have the same features\n",
    "assert list(training_data.drop('fire', axis=1).columns) == list(test_data.drop('fire', axis=1).columns)\n",
    "list(training_data.drop('fire', axis=1).columns) "
   ]
  },
  {
   "cell_type": "code",
   "execution_count": 3,
   "id": "86ec2968",
   "metadata": {},
   "outputs": [
    {
     "name": "stdout",
     "output_type": "stream",
     "text": [
      "   year  temp  humidity  rainfall  drought_code  buildup_index  day  month  \\\n",
      "0  2015    33        68       4.5          9.12           5.09   19      6   \n",
      "1  2009    28        56       0.0         38.17          21.21   12      6   \n",
      "2  2017    30        64       0.6         15.38           6.24   24      9   \n",
      "3  2007    23        74       8.3          7.36           2.27   14      9   \n",
      "4  2017    31        72       0.3         30.47           5.63    7      9   \n",
      "\n",
      "   wind_speed  \n",
      "0          16  \n",
      "1          18  \n",
      "2          19  \n",
      "3          28  \n",
      "4          17  \n",
      "0     no\n",
      "1    yes\n",
      "2     no\n",
      "3     no\n",
      "4     no\n",
      "Name: fire, dtype: object\n"
     ]
    }
   ],
   "source": [
    "\n",
    "X_test = test_data.drop('fire', axis=1)  # Featuåres (everything except \"fire\")\n",
    "y_test = test_data['fire']               # Target variable (What I want to predict \"fire\" column)\n",
    "print(X_test.head())\n",
    "print(y_test.head())  "
   ]
  },
  {
   "cell_type": "code",
   "execution_count": 5,
   "id": "38c008d9",
   "metadata": {},
   "outputs": [
    {
     "name": "stdout",
     "output_type": "stream",
     "text": [
      "   year  temp  humidity  rainfall  drought_code  buildup_index  day  month  \\\n",
      "0  2015    28        59       0.0          8.06           3.47    1      6   \n",
      "1  2010    30        61       1.3          8.17           4.03    2      6   \n",
      "2  2009    26        83      13.1          8.08           3.59    3      6   \n",
      "3  2017    25        87       2.5          7.18           2.42    4      6   \n",
      "4  2014    28        77       0.0         14.98           4.63    5      6   \n",
      "\n",
      "   wind_speed  \n",
      "0          19  \n",
      "1          13  \n",
      "2          22  \n",
      "3          15  \n",
      "4          18  \n",
      "0    no\n",
      "1    no\n",
      "2    no\n",
      "3    no\n",
      "4    no\n",
      "Name: fire, dtype: object\n"
     ]
    }
   ],
   "source": [
    "X_training = training_data.drop('fire', axis=1)  # Features (everything except \"fire\")\n",
    "y_training = training_data['fire']   \n",
    "print(X_training.head())  \n",
    "print(y_training.head())           # Target variable (What I want to predict \"fire\" column)"
   ]
  },
  {
   "cell_type": "code",
   "execution_count": 6,
   "id": "ca00eb49",
   "metadata": {},
   "outputs": [
    {
     "name": "stdout",
     "output_type": "stream",
     "text": [
      "fire\n",
      "yes    0.512987\n",
      "no     0.487013\n",
      "Name: proportion, dtype: float64\n",
      "Entropy of training data: 0.9995132881417702\n"
     ]
    }
   ],
   "source": [
    "# Entropy of the indepednent variable \n",
    "from scipy.stats import entropy\n",
    "print(y_training.value_counts(normalize=True))  # Training data\n",
    "training_entropy = entropy(y_training.value_counts(normalize=True), base=2)\n",
    "print(f\"Entropy of training data: {training_entropy}\")"
   ]
  },
  {
   "cell_type": "code",
   "execution_count": null,
   "id": "aa0aeae9",
   "metadata": {},
   "outputs": [],
   "source": [
    "from sklearn.linear_model import LogisticRegression\n",
    "import numpy as np\n",
    "\n",
    "def find_best_c(X_training, y_training,c_values=np.logspace(-3, 3, 50)):\n",
    "    \"\"\"\n",
    "    Finds the best value for C that gives the highest accuracy on the test dataset.\n",
    "    \n",
    "    Parameters:\n",
    "        X_training (DataFrame): Training features.\n",
    "        y_training (Series): Training target.\n",
    "        X_test (DataFrame): Test features.\n",
    "        y_test (Series): Test target.\n",
    "        c_values (array-like): Range of values for C to test (logarithmic scale).\n",
    "    \n",
    "    Returns:\n",
    "        best_c (float): The value of C that gives the highest accuracy.\n",
    "        best_accuracy (float): The highest accuracy achieved.\n",
    "    \"\"\"\n",
    "    best_c = None\n",
    "    best_accuracy = 0.0\n",
    "\n",
    "    for c in c_values:\n",
    "        # Create and train the model\n",
    "        lr_model = LogisticRegression(max_iter=250, C=c, random_state=42)\n",
    "        lr_model.fit(X_training, y_training)\n",
    "        \n",
    "        # Evaluate the model\n",
    "        predictions = lr_model.predict(X_training)\n",
    "        accuracy = lr_model.score(X_training, y_training)\n",
    "        print(f\"C: {c}, Accuracy: {accuracy}\")\n",
    "        \n",
    "        # Update the best parameters if the current accuracy is higher\n",
    "        if accuracy > best_accuracy:\n",
    "            best_accuracy = accuracy\n",
    "            best_c = c\n",
    "\n",
    "    print(f\"\\nBest C: {best_c}, Best Accuracy: {best_accuracy}\")\n",
    "    return best_c, best_accuracy\n",
    "\n",
    "# Example usage:\n",
    "c_values = np.logspace(-3, 3, 50)  # Test C values from 0.001 to 1000 on a logarithmic scale\n",
    "best_c, best_accuracy = find_best_c(X_training, y_training, c_values)\n",
    "\n",
    "print(f\"The best value for C is: {best_c}\")\n",
    "print(f\"The highest accuracy achieved is: {best_accuracy}\")"
   ]
  },
  {
   "cell_type": "code",
   "execution_count": 40,
   "id": "a527b1f7",
   "metadata": {},
   "outputs": [
    {
     "name": "stdout",
     "output_type": "stream",
     "text": [
      "Accuracy on training dataset provided: 0.9155844155844156\n"
     ]
    },
    {
     "name": "stderr",
     "output_type": "stream",
     "text": [
      "/Users/georgea.e/Documents/Fourth Year/Machine Learning/Assignment 1 /.venv/lib/python3.12/site-packages/sklearn/linear_model/_logistic.py:473: ConvergenceWarning: lbfgs failed to converge after 250 iteration(s) (status=1):\n",
      "STOP: TOTAL NO. OF ITERATIONS REACHED LIMIT\n",
      "\n",
      "Increase the number of iterations to improve the convergence (max_iter=250).\n",
      "You might also want to scale the data as shown in:\n",
      "    https://scikit-learn.org/stable/modules/preprocessing.html\n",
      "Please also refer to the documentation for alternative solver options:\n",
      "    https://scikit-learn.org/stable/modules/linear_model.html#logistic-regression\n",
      "  n_iter_i = _check_optimize_result(\n"
     ]
    }
   ],
   "source": [
    "# Model fitting and accuracy evaluation\n",
    "from sklearn.linear_model import LogisticRegression\n",
    "\n",
    "#Model with default settings, setting random_state for reproducibility\n",
    "lr_model = LogisticRegression(max_iter = 250, C = 3)\n",
    "\n",
    "#Fit the model to the training data\n",
    "lr_model.fit(X_training, y_training)\n",
    "\n",
    "#Compute accuracy on the training predictions\n",
    "#predictions = lr_model.predict(X_training)\n",
    "#print(\"Predictions on training dataset provided:\", predictions)\n",
    "accuracy = lr_model.score(X_training, y_training)\n",
    "\n",
    "print(\"Accuracy on training dataset provided:\", accuracy)"
   ]
  },
  {
   "cell_type": "code",
   "execution_count": 41,
   "id": "ae9bba36",
   "metadata": {},
   "outputs": [
    {
     "name": "stdout",
     "output_type": "stream",
     "text": [
      "Accuracy on test dataset provided: 0.9\n"
     ]
    }
   ],
   "source": [
    "lr_model.predict(X_test)\n",
    "test_accuracy = lr_model.score(X_test, y_test)\n",
    "\n",
    "print(\"Accuracy on test dataset provided:\", test_accuracy)"
   ]
  }
 ],
 "metadata": {
  "kernelspec": {
   "display_name": ".venv",
   "language": "python",
   "name": "python3"
  },
  "language_info": {
   "codemirror_mode": {
    "name": "ipython",
    "version": 3
   },
   "file_extension": ".py",
   "mimetype": "text/x-python",
   "name": "python",
   "nbconvert_exporter": "python",
   "pygments_lexer": "ipython3",
   "version": "3.12.11"
  }
 },
 "nbformat": 4,
 "nbformat_minor": 5
}
